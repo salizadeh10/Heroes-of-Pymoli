{
 "cells": [
  {
   "cell_type": "code",
   "execution_count": 101,
   "metadata": {},
   "outputs": [],
   "source": [
    " # Dependencies and Setup\n",
    "import pandas as pd\n",
    "import numpy as np"
   ]
  },
  {
   "cell_type": "code",
   "execution_count": 102,
   "metadata": {},
   "outputs": [],
   "source": [
    "# Load the file\n",
    "dataFile = \"purchase_data.csv\"\n",
    "\n",
    "# Read Purchasing File and store into Pandas data frame\n",
    "purchase_data_pd = pd.read_csv(dataFile)"
   ]
  },
  {
   "cell_type": "code",
   "execution_count": 103,
   "metadata": {},
   "outputs": [
    {
     "data": {
      "text/html": [
       "<div>\n",
       "<style scoped>\n",
       "    .dataframe tbody tr th:only-of-type {\n",
       "        vertical-align: middle;\n",
       "    }\n",
       "\n",
       "    .dataframe tbody tr th {\n",
       "        vertical-align: top;\n",
       "    }\n",
       "\n",
       "    .dataframe thead th {\n",
       "        text-align: right;\n",
       "    }\n",
       "</style>\n",
       "<table border=\"1\" class=\"dataframe\">\n",
       "  <thead>\n",
       "    <tr style=\"text-align: right;\">\n",
       "      <th></th>\n",
       "      <th>Purchase ID</th>\n",
       "      <th>SN</th>\n",
       "      <th>Age</th>\n",
       "      <th>Gender</th>\n",
       "      <th>Item ID</th>\n",
       "      <th>Item Name</th>\n",
       "      <th>Price</th>\n",
       "    </tr>\n",
       "  </thead>\n",
       "  <tbody>\n",
       "    <tr>\n",
       "      <th>0</th>\n",
       "      <td>0</td>\n",
       "      <td>Lisim78</td>\n",
       "      <td>20</td>\n",
       "      <td>Male</td>\n",
       "      <td>108</td>\n",
       "      <td>Extraction, Quickblade Of Trembling Hands</td>\n",
       "      <td>3.53</td>\n",
       "    </tr>\n",
       "    <tr>\n",
       "      <th>1</th>\n",
       "      <td>1</td>\n",
       "      <td>Lisovynya38</td>\n",
       "      <td>40</td>\n",
       "      <td>Male</td>\n",
       "      <td>143</td>\n",
       "      <td>Frenzied Scimitar</td>\n",
       "      <td>1.56</td>\n",
       "    </tr>\n",
       "    <tr>\n",
       "      <th>2</th>\n",
       "      <td>2</td>\n",
       "      <td>Ithergue48</td>\n",
       "      <td>24</td>\n",
       "      <td>Male</td>\n",
       "      <td>92</td>\n",
       "      <td>Final Critic</td>\n",
       "      <td>4.88</td>\n",
       "    </tr>\n",
       "    <tr>\n",
       "      <th>3</th>\n",
       "      <td>3</td>\n",
       "      <td>Chamassasya86</td>\n",
       "      <td>24</td>\n",
       "      <td>Male</td>\n",
       "      <td>100</td>\n",
       "      <td>Blindscythe</td>\n",
       "      <td>3.27</td>\n",
       "    </tr>\n",
       "    <tr>\n",
       "      <th>4</th>\n",
       "      <td>4</td>\n",
       "      <td>Iskosia90</td>\n",
       "      <td>23</td>\n",
       "      <td>Male</td>\n",
       "      <td>131</td>\n",
       "      <td>Fury</td>\n",
       "      <td>1.44</td>\n",
       "    </tr>\n",
       "  </tbody>\n",
       "</table>\n",
       "</div>"
      ],
      "text/plain": [
       "   Purchase ID             SN  Age Gender  Item ID  \\\n",
       "0            0        Lisim78   20   Male      108   \n",
       "1            1    Lisovynya38   40   Male      143   \n",
       "2            2     Ithergue48   24   Male       92   \n",
       "3            3  Chamassasya86   24   Male      100   \n",
       "4            4      Iskosia90   23   Male      131   \n",
       "\n",
       "                                   Item Name  Price  \n",
       "0  Extraction, Quickblade Of Trembling Hands   3.53  \n",
       "1                          Frenzied Scimitar   1.56  \n",
       "2                               Final Critic   4.88  \n",
       "3                                Blindscythe   3.27  \n",
       "4                                       Fury   1.44  "
      ]
     },
     "execution_count": 103,
     "metadata": {},
     "output_type": "execute_result"
    }
   ],
   "source": [
    "purchase_data_pd.head()"
   ]
  },
  {
   "cell_type": "code",
   "execution_count": 104,
   "metadata": {},
   "outputs": [
    {
     "name": "stdout",
     "output_type": "stream",
     "text": [
      "Total Number of Players: 576\n"
     ]
    }
   ],
   "source": [
    "player_count = len(purchase_data_pd[\"SN\"].value_counts())\n",
    "print(\"Total Number of Players: \" + str(player_count))"
   ]
  },
  {
   "cell_type": "code",
   "execution_count": 105,
   "metadata": {},
   "outputs": [],
   "source": [
    "# Purchasing Analysis (Total)\n",
    "# Run basic calculations to obtain number of unique items, average price, etc.\n",
    "# Create a summary data frame to hold the results\n",
    "# Optional: give the displayed data cleaner formatting\n",
    "# Display the summary data frame"
   ]
  },
  {
   "cell_type": "code",
   "execution_count": 106,
   "metadata": {},
   "outputs": [
    {
     "name": "stdout",
     "output_type": "stream",
     "text": [
      "Number of unique purchase items: 183\n"
     ]
    }
   ],
   "source": [
    "# get number of unique purchases\n",
    "unique_items = len(purchase_data_pd[\"Item ID\"].value_counts())\n",
    "print(\"Number of unique purchase items: \" + str(unique_items))"
   ]
  },
  {
   "cell_type": "code",
   "execution_count": 107,
   "metadata": {},
   "outputs": [
    {
     "name": "stdout",
     "output_type": "stream",
     "text": [
      "Average price of items is: 3.05\n"
     ]
    }
   ],
   "source": [
    "# get the average price of items\n",
    "avg_price = round(purchase_data_pd[\"Price\"].mean(), 2)\n",
    "print(\"Average price of items is: \" + str(avg_price))"
   ]
  },
  {
   "cell_type": "code",
   "execution_count": 108,
   "metadata": {},
   "outputs": [
    {
     "name": "stdout",
     "output_type": "stream",
     "text": [
      "Number of items purchased: 780\n"
     ]
    }
   ],
   "source": [
    "# get number of purchased \n",
    "number_of_purchases = len(purchase_data_pd[\"Purchase ID\"].value_counts())\n",
    "print(\"Number of items purchased: \" + str(number_of_purchases))"
   ]
  },
  {
   "cell_type": "code",
   "execution_count": 109,
   "metadata": {},
   "outputs": [
    {
     "name": "stdout",
     "output_type": "stream",
     "text": [
      "Total revenue is: 2379.77\n"
     ]
    }
   ],
   "source": [
    "# total revenue generated from sales\n",
    "total_revenue = purchase_data_pd[\"Price\"].sum()\n",
    "print(\"Total revenue is: \" + str(total_revenue))"
   ]
  },
  {
   "cell_type": "code",
   "execution_count": 110,
   "metadata": {},
   "outputs": [
    {
     "data": {
      "text/html": [
       "<div>\n",
       "<style scoped>\n",
       "    .dataframe tbody tr th:only-of-type {\n",
       "        vertical-align: middle;\n",
       "    }\n",
       "\n",
       "    .dataframe tbody tr th {\n",
       "        vertical-align: top;\n",
       "    }\n",
       "\n",
       "    .dataframe thead th {\n",
       "        text-align: right;\n",
       "    }\n",
       "</style>\n",
       "<table border=\"1\" class=\"dataframe\">\n",
       "  <thead>\n",
       "    <tr style=\"text-align: right;\">\n",
       "      <th></th>\n",
       "      <th>Number of Unique Items</th>\n",
       "      <th>Average Price</th>\n",
       "      <th>Number of Purchases</th>\n",
       "      <th>Total Revenue</th>\n",
       "    </tr>\n",
       "  </thead>\n",
       "  <tbody>\n",
       "    <tr>\n",
       "      <th>0</th>\n",
       "      <td>183</td>\n",
       "      <td>$3.05</td>\n",
       "      <td>780</td>\n",
       "      <td>$2379.77</td>\n",
       "    </tr>\n",
       "  </tbody>\n",
       "</table>\n",
       "</div>"
      ],
      "text/plain": [
       "   Number of Unique Items Average Price  Number of Purchases Total Revenue\n",
       "0                     183         $3.05                  780      $2379.77"
      ]
     },
     "execution_count": 110,
     "metadata": {},
     "output_type": "execute_result"
    }
   ],
   "source": [
    "# Create dataframe for number of items, avg sale price, number of purchases, and total revenue\n",
    "\n",
    "purchase_summary = []\n",
    "purchase_summary.append(unique_items)\n",
    "purchase_summary.append(\"$\" + str(avg_price))\n",
    "purchase_summary.append(number_of_purchases)\n",
    "purchase_summary.append(\"$\" + str(total_revenue))\n",
    "\n",
    "purchase_df = pd.DataFrame([purchase_summary], columns = [\"Number of Unique Items\", \"Average Price\", \n",
    "                                            \"Number of Purchases\", \"Total Revenue\"])\n",
    "purchase_df.head()"
   ]
  },
  {
   "cell_type": "code",
   "execution_count": 111,
   "metadata": {},
   "outputs": [
    {
     "data": {
      "text/html": [
       "<style  type=\"text/css\" >\n",
       "</style>  \n",
       "<table id=\"T_015ce4e4_a7dd_11e8_b1d2_7831c1bcb1c8\" > \n",
       "<thead>    <tr> \n",
       "        <th class=\"blank level0\" ></th> \n",
       "        <th class=\"col_heading level0 col0\" >Percentage of Players</th> \n",
       "        <th class=\"col_heading level0 col1\" >Total Count</th> \n",
       "    </tr>    <tr> \n",
       "        <th class=\"index_name level0\" >Gender</th> \n",
       "        <th class=\"blank\" ></th> \n",
       "        <th class=\"blank\" ></th> \n",
       "    </tr></thead> \n",
       "<tbody>    <tr> \n",
       "        <th id=\"T_015ce4e4_a7dd_11e8_b1d2_7831c1bcb1c8level0_row0\" class=\"row_heading level0 row0\" >Male</th> \n",
       "        <td id=\"T_015ce4e4_a7dd_11e8_b1d2_7831c1bcb1c8row0_col0\" class=\"data row0 col0\" >84.03%</td> \n",
       "        <td id=\"T_015ce4e4_a7dd_11e8_b1d2_7831c1bcb1c8row0_col1\" class=\"data row0 col1\" >484</td> \n",
       "    </tr>    <tr> \n",
       "        <th id=\"T_015ce4e4_a7dd_11e8_b1d2_7831c1bcb1c8level0_row1\" class=\"row_heading level0 row1\" >Female</th> \n",
       "        <td id=\"T_015ce4e4_a7dd_11e8_b1d2_7831c1bcb1c8row1_col0\" class=\"data row1 col0\" >14.06%</td> \n",
       "        <td id=\"T_015ce4e4_a7dd_11e8_b1d2_7831c1bcb1c8row1_col1\" class=\"data row1 col1\" >81</td> \n",
       "    </tr>    <tr> \n",
       "        <th id=\"T_015ce4e4_a7dd_11e8_b1d2_7831c1bcb1c8level0_row2\" class=\"row_heading level0 row2\" >Other / Non-Disclosed</th> \n",
       "        <td id=\"T_015ce4e4_a7dd_11e8_b1d2_7831c1bcb1c8row2_col0\" class=\"data row2 col0\" >1.91%</td> \n",
       "        <td id=\"T_015ce4e4_a7dd_11e8_b1d2_7831c1bcb1c8row2_col1\" class=\"data row2 col1\" >11</td> \n",
       "    </tr></tbody> \n",
       "</table> "
      ],
      "text/plain": [
       "<pandas.io.formats.style.Styler at 0x11553ad68>"
      ]
     },
     "execution_count": 111,
     "metadata": {},
     "output_type": "execute_result"
    }
   ],
   "source": [
    "# Gender Demographics\n",
    "# Percentage and Count of Male Players\n",
    "# Percentage and Count of Female Players\n",
    "# Percentage and Count of Other / Non-Disclosed\n",
    "\n",
    "# Get rid off duplicates 1st. \n",
    "gender_dem_df = purchase_data_pd.drop_duplicates(\"SN\", inplace=False)\n",
    "gender_dem_df.head()\n",
    "\n",
    "# Determine count of male players\n",
    "is_male = gender_dem_df[\"Gender\"] == \"Male\"\n",
    "males_df = gender_dem_df[is_male]\n",
    "males_count = males_df.shape[0]\n",
    "\n",
    "# Determine count of female players\n",
    "is_female = gender_dem_df[\"Gender\"] == \"Female\"\n",
    "females_df = gender_dem_df[is_female]\n",
    "females_count = females_df.shape[0]\n",
    "\n",
    "# Subtract males + females from player_count to determine number of Other/Non-Disclosed\n",
    "other_non_disclosed_count = player_count - (males_count + females_count)\n",
    "\n",
    "# Calculate percentages for males, females and other/non_discolsed\n",
    "males_percentage = round(((males_count /player_count) * 100), 2)\n",
    "females_percentage = round(((females_count /player_count) * 100), 2)\n",
    "other_non_disclosed_percentage = round(((other_non_disclosed_count /player_count) * 100), 2)\n",
    "\n",
    "# Create the dataframe for dempraphic data\n",
    "demographics_df = pd.DataFrame({\"Gender\": [\"Male\", \"Female\", \"Other / Non-Disclosed\"], \"Percentage of Players\": \n",
    "                                [males_percentage, females_percentage, other_non_disclosed_percentage],\n",
    "                                        \"Total Count\": [males_count, females_count, other_non_disclosed_count]}, \n",
    "                               columns = [\"Gender\", \"Percentage of Players\", \"Total Count\"])\n",
    "\n",
    "demographics_df = demographics_df.set_index(\"Gender\")\n",
    "demographics_df.style.format({\"Percentage of Players\": \"{:.2f}%\"})  "
   ]
  },
  {
   "cell_type": "code",
   "execution_count": 112,
   "metadata": {},
   "outputs": [
    {
     "name": "stdout",
     "output_type": "stream",
     "text": [
      "[NbConvertApp] Converting notebook Heroes-of-Pymoli.ipynb to script\n",
      "[NbConvertApp] Writing 3596 bytes to Heroes-of-Pymoli.py\n"
     ]
    }
   ],
   "source": [
    "get_ipython().system('jupyter nbconvert --to script Heroes-of-Pymoli.ipynb')"
   ]
  },
  {
   "cell_type": "code",
   "execution_count": null,
   "metadata": {},
   "outputs": [],
   "source": []
  }
 ],
 "metadata": {
  "kernelspec": {
   "display_name": "Python [conda env:PythonData]",
   "language": "python",
   "name": "conda-env-PythonData-py"
  },
  "language_info": {
   "codemirror_mode": {
    "name": "ipython",
    "version": 3
   },
   "file_extension": ".py",
   "mimetype": "text/x-python",
   "name": "python",
   "nbconvert_exporter": "python",
   "pygments_lexer": "ipython3",
   "version": "3.7.0"
  }
 },
 "nbformat": 4,
 "nbformat_minor": 2
}
