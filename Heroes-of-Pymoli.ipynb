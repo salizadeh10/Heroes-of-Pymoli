{
 "cells": [
  {
   "cell_type": "code",
   "execution_count": 88,
   "metadata": {},
   "outputs": [],
   "source": [
    " # Dependencies and Setup\n",
    "import pandas as pd\n",
    "import numpy as np"
   ]
  },
  {
   "cell_type": "code",
   "execution_count": 89,
   "metadata": {},
   "outputs": [],
   "source": [
    "# Load the file\n",
    "dataFile = \"purchase_data.csv\"\n",
    "\n",
    "# Read Purchasing File and store into Pandas data frame\n",
    "purchase_data_pd = pd.read_csv(dataFile)"
   ]
  },
  {
   "cell_type": "code",
   "execution_count": 90,
   "metadata": {},
   "outputs": [
    {
     "data": {
      "text/html": [
       "<div>\n",
       "<style scoped>\n",
       "    .dataframe tbody tr th:only-of-type {\n",
       "        vertical-align: middle;\n",
       "    }\n",
       "\n",
       "    .dataframe tbody tr th {\n",
       "        vertical-align: top;\n",
       "    }\n",
       "\n",
       "    .dataframe thead th {\n",
       "        text-align: right;\n",
       "    }\n",
       "</style>\n",
       "<table border=\"1\" class=\"dataframe\">\n",
       "  <thead>\n",
       "    <tr style=\"text-align: right;\">\n",
       "      <th></th>\n",
       "      <th>Purchase ID</th>\n",
       "      <th>SN</th>\n",
       "      <th>Age</th>\n",
       "      <th>Gender</th>\n",
       "      <th>Item ID</th>\n",
       "      <th>Item Name</th>\n",
       "      <th>Price</th>\n",
       "    </tr>\n",
       "  </thead>\n",
       "  <tbody>\n",
       "    <tr>\n",
       "      <th>0</th>\n",
       "      <td>15</td>\n",
       "      <td>Lisassa64</td>\n",
       "      <td>21</td>\n",
       "      <td>Female</td>\n",
       "      <td>98</td>\n",
       "      <td>Deadline, Voice Of Subtlety</td>\n",
       "      <td>2.89</td>\n",
       "    </tr>\n",
       "    <tr>\n",
       "      <th>1</th>\n",
       "      <td>18</td>\n",
       "      <td>Reunasu60</td>\n",
       "      <td>22</td>\n",
       "      <td>Female</td>\n",
       "      <td>82</td>\n",
       "      <td>Nirvana</td>\n",
       "      <td>4.90</td>\n",
       "    </tr>\n",
       "    <tr>\n",
       "      <th>2</th>\n",
       "      <td>38</td>\n",
       "      <td>Reulae52</td>\n",
       "      <td>10</td>\n",
       "      <td>Female</td>\n",
       "      <td>116</td>\n",
       "      <td>Renewed Skeletal Katana</td>\n",
       "      <td>4.18</td>\n",
       "    </tr>\n",
       "    <tr>\n",
       "      <th>3</th>\n",
       "      <td>41</td>\n",
       "      <td>Assosia88</td>\n",
       "      <td>20</td>\n",
       "      <td>Female</td>\n",
       "      <td>7</td>\n",
       "      <td>Thorn, Satchel of Dark Souls</td>\n",
       "      <td>1.33</td>\n",
       "    </tr>\n",
       "    <tr>\n",
       "      <th>4</th>\n",
       "      <td>55</td>\n",
       "      <td>Phaelap26</td>\n",
       "      <td>25</td>\n",
       "      <td>Female</td>\n",
       "      <td>84</td>\n",
       "      <td>Arcane Gem</td>\n",
       "      <td>3.79</td>\n",
       "    </tr>\n",
       "  </tbody>\n",
       "</table>\n",
       "</div>"
      ],
      "text/plain": [
       "   Purchase ID         SN  Age  Gender  Item ID                     Item Name  \\\n",
       "0           15  Lisassa64   21  Female       98   Deadline, Voice Of Subtlety   \n",
       "1           18  Reunasu60   22  Female       82                       Nirvana   \n",
       "2           38   Reulae52   10  Female      116       Renewed Skeletal Katana   \n",
       "3           41  Assosia88   20  Female        7  Thorn, Satchel of Dark Souls   \n",
       "4           55  Phaelap26   25  Female       84                    Arcane Gem   \n",
       "\n",
       "   Price  \n",
       "0   2.89  \n",
       "1   4.90  \n",
       "2   4.18  \n",
       "3   1.33  \n",
       "4   3.79  "
      ]
     },
     "execution_count": 90,
     "metadata": {},
     "output_type": "execute_result"
    }
   ],
   "source": [
    "purchase_data_pd.head()"
   ]
  },
  {
   "cell_type": "code",
   "execution_count": 91,
   "metadata": {},
   "outputs": [
    {
     "name": "stdout",
     "output_type": "stream",
     "text": [
      "Total Number of Players: 576\n"
     ]
    }
   ],
   "source": [
    "player_count = len(purchase_data_pd[\"SN\"].value_counts())\n",
    "print(\"Total Number of Players: \" + str(player_count))"
   ]
  },
  {
   "cell_type": "code",
   "execution_count": 92,
   "metadata": {},
   "outputs": [],
   "source": [
    "# Purchasing Analysis (Total)\n",
    "# Run basic calculations to obtain number of unique items, average price, etc.\n",
    "# Create a summary data frame to hold the results\n",
    "# Optional: give the displayed data cleaner formatting\n",
    "# Display the summary data frame"
   ]
  },
  {
   "cell_type": "code",
   "execution_count": 93,
   "metadata": {},
   "outputs": [
    {
     "name": "stdout",
     "output_type": "stream",
     "text": [
      "Number of unique purchase items: 183\n"
     ]
    }
   ],
   "source": [
    "# get number of unique purchases\n",
    "unique_items = len(purchase_data_pd[\"Item ID\"].value_counts())\n",
    "print(\"Number of unique purchase items: \" + str(unique_items))"
   ]
  },
  {
   "cell_type": "code",
   "execution_count": 94,
   "metadata": {},
   "outputs": [
    {
     "name": "stdout",
     "output_type": "stream",
     "text": [
      "Average price of items is: 3.05\n"
     ]
    }
   ],
   "source": [
    "# get the average price of items\n",
    "avg_price = round(purchase_data_pd[\"Price\"].mean(), 2)\n",
    "print(\"Average price of items is: \" + str(avg_price))"
   ]
  },
  {
   "cell_type": "code",
   "execution_count": 95,
   "metadata": {},
   "outputs": [
    {
     "name": "stdout",
     "output_type": "stream",
     "text": [
      "Number of items purchased: 780\n"
     ]
    }
   ],
   "source": [
    "# get number of purchased \n",
    "number_of_purchases = len(purchase_data_pd[\"Purchase ID\"].value_counts())\n",
    "print(\"Number of items purchased: \" + str(number_of_purchases))"
   ]
  },
  {
   "cell_type": "code",
   "execution_count": 96,
   "metadata": {},
   "outputs": [
    {
     "name": "stdout",
     "output_type": "stream",
     "text": [
      "Total revenue is: 2379.7700000000004\n"
     ]
    }
   ],
   "source": [
    "# total revenue generated from sales\n",
    "total_revenue = purchase_data_pd[\"Price\"].sum()\n",
    "print(\"Total revenue is: \" + str(total_revenue))"
   ]
  },
  {
   "cell_type": "code",
   "execution_count": 97,
   "metadata": {},
   "outputs": [
    {
     "data": {
      "text/html": [
       "<div>\n",
       "<style scoped>\n",
       "    .dataframe tbody tr th:only-of-type {\n",
       "        vertical-align: middle;\n",
       "    }\n",
       "\n",
       "    .dataframe tbody tr th {\n",
       "        vertical-align: top;\n",
       "    }\n",
       "\n",
       "    .dataframe thead th {\n",
       "        text-align: right;\n",
       "    }\n",
       "</style>\n",
       "<table border=\"1\" class=\"dataframe\">\n",
       "  <thead>\n",
       "    <tr style=\"text-align: right;\">\n",
       "      <th></th>\n",
       "      <th>Number of Unique Items</th>\n",
       "      <th>Average Price</th>\n",
       "      <th>Number of Purchases</th>\n",
       "      <th>Total Revenue</th>\n",
       "    </tr>\n",
       "  </thead>\n",
       "  <tbody>\n",
       "    <tr>\n",
       "      <th>0</th>\n",
       "      <td>183</td>\n",
       "      <td>$3.05</td>\n",
       "      <td>780</td>\n",
       "      <td>$2379.7700000000004</td>\n",
       "    </tr>\n",
       "  </tbody>\n",
       "</table>\n",
       "</div>"
      ],
      "text/plain": [
       "   Number of Unique Items Average Price  Number of Purchases  \\\n",
       "0                     183         $3.05                  780   \n",
       "\n",
       "         Total Revenue  \n",
       "0  $2379.7700000000004  "
      ]
     },
     "execution_count": 97,
     "metadata": {},
     "output_type": "execute_result"
    }
   ],
   "source": [
    "# Create dataframe for number of items, avg sale price, number of purchases, and total revenue\n",
    "\n",
    "purchase_summary = []\n",
    "purchase_summary.append(unique_items)\n",
    "purchase_summary.append(\"$\" + str(avg_price))\n",
    "purchase_summary.append(number_of_purchases)\n",
    "purchase_summary.append(\"$\" + str(total_revenue))\n",
    "\n",
    "purchase_df = pd.DataFrame([purchase_summary], columns = [\"Number of Unique Items\", \"Average Price\", \n",
    "                                            \"Number of Purchases\", \"Total Revenue\"])\n",
    "purchase_df.head()"
   ]
  },
  {
   "cell_type": "code",
   "execution_count": 98,
   "metadata": {},
   "outputs": [
    {
     "data": {
      "text/html": [
       "<style  type=\"text/css\" >\n",
       "</style>  \n",
       "<table id=\"T_98e2e4e8_a810_11e8_9bce_7831c1bcb1c8\" > \n",
       "<thead>    <tr> \n",
       "        <th class=\"blank level0\" ></th> \n",
       "        <th class=\"col_heading level0 col0\" >Percentage of Players</th> \n",
       "        <th class=\"col_heading level0 col1\" >Total Count</th> \n",
       "    </tr>    <tr> \n",
       "        <th class=\"index_name level0\" >Gender</th> \n",
       "        <th class=\"blank\" ></th> \n",
       "        <th class=\"blank\" ></th> \n",
       "    </tr></thead> \n",
       "<tbody>    <tr> \n",
       "        <th id=\"T_98e2e4e8_a810_11e8_9bce_7831c1bcb1c8level0_row0\" class=\"row_heading level0 row0\" >Male</th> \n",
       "        <td id=\"T_98e2e4e8_a810_11e8_9bce_7831c1bcb1c8row0_col0\" class=\"data row0 col0\" >84.03%</td> \n",
       "        <td id=\"T_98e2e4e8_a810_11e8_9bce_7831c1bcb1c8row0_col1\" class=\"data row0 col1\" >484</td> \n",
       "    </tr>    <tr> \n",
       "        <th id=\"T_98e2e4e8_a810_11e8_9bce_7831c1bcb1c8level0_row1\" class=\"row_heading level0 row1\" >Female</th> \n",
       "        <td id=\"T_98e2e4e8_a810_11e8_9bce_7831c1bcb1c8row1_col0\" class=\"data row1 col0\" >14.06%</td> \n",
       "        <td id=\"T_98e2e4e8_a810_11e8_9bce_7831c1bcb1c8row1_col1\" class=\"data row1 col1\" >81</td> \n",
       "    </tr>    <tr> \n",
       "        <th id=\"T_98e2e4e8_a810_11e8_9bce_7831c1bcb1c8level0_row2\" class=\"row_heading level0 row2\" >Other / Non-Disclosed</th> \n",
       "        <td id=\"T_98e2e4e8_a810_11e8_9bce_7831c1bcb1c8row2_col0\" class=\"data row2 col0\" >1.91%</td> \n",
       "        <td id=\"T_98e2e4e8_a810_11e8_9bce_7831c1bcb1c8row2_col1\" class=\"data row2 col1\" >11</td> \n",
       "    </tr></tbody> \n",
       "</table> "
      ],
      "text/plain": [
       "<pandas.io.formats.style.Styler at 0x119ca6f98>"
      ]
     },
     "execution_count": 98,
     "metadata": {},
     "output_type": "execute_result"
    }
   ],
   "source": [
    "# Gender Demographics\n",
    "# Percentage and Count of Male Players\n",
    "# Percentage and Count of Female Players\n",
    "# Percentage and Count of Other / Non-Disclosed\n",
    "\n",
    "# Get rid off duplicates 1st. \n",
    "gender_dem_df = purchase_data_pd.drop_duplicates(\"SN\", inplace=False)\n",
    "gender_dem_df.head()\n",
    "\n",
    "# Determine count of male players\n",
    "is_male = gender_dem_df[\"Gender\"] == \"Male\"\n",
    "males_df = gender_dem_df[is_male]\n",
    "males_count = males_df.shape[0]\n",
    "\n",
    "# Determine count of female players\n",
    "is_female = gender_dem_df[\"Gender\"] == \"Female\"\n",
    "females_df = gender_dem_df[is_female]\n",
    "females_count = females_df.shape[0]\n",
    "\n",
    "# Subtract males + females from player_count to determine number of Other/Non-Disclosed\n",
    "other_non_disclosed_count = player_count - (males_count + females_count)\n",
    "\n",
    "# Calculate percentages for males, females and other/non_discolsed\n",
    "males_percentage = round(((males_count /player_count) * 100), 2)\n",
    "females_percentage = round(((females_count /player_count) * 100), 2)\n",
    "other_non_disclosed_percentage = round(((other_non_disclosed_count /player_count) * 100), 2)\n",
    "\n",
    "# Create the dataframe for dempraphic data\n",
    "demographics_df = pd.DataFrame({\"Gender\": [\"Male\", \"Female\", \"Other / Non-Disclosed\"], \"Percentage of Players\": \n",
    "                                [males_percentage, females_percentage, other_non_disclosed_percentage],\n",
    "                                        \"Total Count\": [males_count, females_count, other_non_disclosed_count]}, \n",
    "                               columns = [\"Gender\", \"Percentage of Players\", \"Total Count\"])\n",
    "\n",
    "demographics_df = demographics_df.set_index(\"Gender\")\n",
    "demographics_df.style.format({\"Percentage of Players\": \"{:.2f}%\"})  "
   ]
  },
  {
   "cell_type": "code",
   "execution_count": 99,
   "metadata": {},
   "outputs": [],
   "source": [
    "# Purchasing Analysis (Gender)\n",
    "# Run basic calculations to obtain purchase count, avg. purchase price, avg. purchase total per person etc. by gender\n",
    "# Create a summary data frame to hold the results\n",
    "# Optional: give the displayed data cleaner formatting\n",
    "# Display the summary data frame"
   ]
  },
  {
   "cell_type": "code",
   "execution_count": 100,
   "metadata": {},
   "outputs": [
    {
     "data": {
      "text/html": [
       "<div>\n",
       "<style scoped>\n",
       "    .dataframe tbody tr th:only-of-type {\n",
       "        vertical-align: middle;\n",
       "    }\n",
       "\n",
       "    .dataframe tbody tr th {\n",
       "        vertical-align: top;\n",
       "    }\n",
       "\n",
       "    .dataframe thead th {\n",
       "        text-align: right;\n",
       "    }\n",
       "</style>\n",
       "<table border=\"1\" class=\"dataframe\">\n",
       "  <thead>\n",
       "    <tr style=\"text-align: right;\">\n",
       "      <th></th>\n",
       "      <th>Purchase Count</th>\n",
       "      <th>Average Purchase Price</th>\n",
       "      <th>Total Purchase Value</th>\n",
       "    </tr>\n",
       "    <tr>\n",
       "      <th>Gender</th>\n",
       "      <th></th>\n",
       "      <th></th>\n",
       "      <th></th>\n",
       "    </tr>\n",
       "  </thead>\n",
       "  <tbody>\n",
       "    <tr>\n",
       "      <th>Male</th>\n",
       "      <td>652</td>\n",
       "      <td>3.02</td>\n",
       "      <td>1967.64</td>\n",
       "    </tr>\n",
       "    <tr>\n",
       "      <th>Female</th>\n",
       "      <td>113</td>\n",
       "      <td>3.20</td>\n",
       "      <td>361.94</td>\n",
       "    </tr>\n",
       "    <tr>\n",
       "      <th>Other / Non-Disclosed</th>\n",
       "      <td>15</td>\n",
       "      <td>3.35</td>\n",
       "      <td>50.19</td>\n",
       "    </tr>\n",
       "  </tbody>\n",
       "</table>\n",
       "</div>"
      ],
      "text/plain": [
       "                       Purchase Count  Average Purchase Price  \\\n",
       "Gender                                                          \n",
       "Male                              652                    3.02   \n",
       "Female                            113                    3.20   \n",
       "Other / Non-Disclosed              15                    3.35   \n",
       "\n",
       "                       Total Purchase Value  \n",
       "Gender                                       \n",
       "Male                                1967.64  \n",
       "Female                               361.94  \n",
       "Other / Non-Disclosed                 50.19  "
      ]
     },
     "execution_count": 100,
     "metadata": {},
     "output_type": "execute_result"
    }
   ],
   "source": [
    "# Purchase counts by Gender column\n",
    "\n",
    "# Purchases by male players\n",
    "is_male = purchase_data_pd[\"Gender\"] == \"Male\"\n",
    "males_purchases_df = purchase_data_pd[is_male]\n",
    "males_purchase_count = males_purchases_df.shape[0]\n",
    "males_avg_purchase_price = males_purchases_df\n",
    "males_total_spend = round((males_purchases_df[\"Price\"].sum()), 2)\n",
    "males_avg_spend = round((males_total_spend / males_purchase_count), 2)\n",
    "\n",
    "# Purchases by female players\n",
    "is_female = purchase_data_pd[\"Gender\"] == \"Female\"\n",
    "females_purchases_df = purchase_data_pd[is_female]\n",
    "females_purchase_count = females_purchases_df.shape[0]\n",
    "females_total_spend = round((females_purchases_df[\"Price\"].sum()), 2)\n",
    "females_avg_spend = round((females_total_spend / females_purchase_count), 2)\n",
    "\n",
    "# Purchases - Other.Non dislosed\n",
    "other_non_disclosed_purchase_count = number_of_purchases - (males_purchase_count + females_purchase_count)\n",
    "other_non_disclosed_total_spend = round((total_revenue - (males_total_spend + females_total_spend)), 2)\n",
    "other_non_disclosed_avg_spend = round((other_non_disclosed_total_spend / other_non_disclosed_purchase_count), 2)\n",
    "\n",
    "# Create the dataframe for purchasing data analysis\n",
    "purchase_analysis_df = pd.DataFrame({\"Gender\": [\"Male\", \"Female\", \"Other / Non-Disclosed\"], \n",
    "                                    \"Purchase Count\": [males_purchase_count, females_purchase_count, \n",
    "                                                              other_non_disclosed_purchase_count],\n",
    "                                    \"Average Purchase Price\": [males_avg_spend, females_avg_spend, other_non_disclosed_avg_spend],\n",
    "                                    \"Total Purchase Value\": [males_total_spend, females_total_spend, other_non_disclosed_total_spend]}, \n",
    "                               columns = [\"Gender\", \"Purchase Count\", \"Average Purchase Price\", \"Total Purchase Value\"])\n",
    "\n",
    "purchase_analysis_df = purchase_analysis_df.set_index(\"Gender\")\n",
    "purchase_analysis_df\n"
   ]
  },
  {
   "cell_type": "code",
   "execution_count": 101,
   "metadata": {},
   "outputs": [
    {
     "name": "stdout",
     "output_type": "stream",
     "text": [
      "[NbConvertApp] Converting notebook Heroes-of-Pymoli.ipynb to script\n",
      "[NbConvertApp] Writing 5806 bytes to Heroes-of-Pymoli.py\n"
     ]
    }
   ],
   "source": [
    "get_ipython().system('jupyter nbconvert --to script Heroes-of-Pymoli.ipynb')"
   ]
  }
 ],
 "metadata": {
  "kernelspec": {
   "display_name": "Python [conda env:PythonData]",
   "language": "python",
   "name": "conda-env-PythonData-py"
  },
  "language_info": {
   "codemirror_mode": {
    "name": "ipython",
    "version": 3
   },
   "file_extension": ".py",
   "mimetype": "text/x-python",
   "name": "python",
   "nbconvert_exporter": "python",
   "pygments_lexer": "ipython3",
   "version": "3.7.0"
  }
 },
 "nbformat": 4,
 "nbformat_minor": 2
}
